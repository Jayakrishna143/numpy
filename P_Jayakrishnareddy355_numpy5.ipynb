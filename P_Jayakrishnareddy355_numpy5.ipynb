{
  "nbformat": 4,
  "nbformat_minor": 0,
  "metadata": {
    "colab": {
      "provenance": [],
      "authorship_tag": "ABX9TyP13jQbw466O8F1dJhAEC9r",
      "include_colab_link": true
    },
    "kernelspec": {
      "name": "python3",
      "display_name": "Python 3"
    },
    "language_info": {
      "name": "python"
    }
  },
  "cells": [
    {
      "cell_type": "markdown",
      "metadata": {
        "id": "view-in-github",
        "colab_type": "text"
      },
      "source": [
        "<a href=\"https://colab.research.google.com/github/Jayakrishna143/numpy/blob/main/P_Jayakrishnareddy355_numpy5.ipynb\" target=\"_parent\"><img src=\"https://colab.research.google.com/assets/colab-badge.svg\" alt=\"Open In Colab\"/></a>"
      ]
    },
    {
      "cell_type": "code",
      "execution_count": 1,
      "metadata": {
        "id": "iFDaVE-uCHWS"
      },
      "outputs": [],
      "source": [
        "import numpy as np"
      ]
    },
    {
      "cell_type": "code",
      "source": [
        "a,b = np.array([1,2,3]),np.array([4,5,6])\n",
        "print(f'Method 1 of vertical stacking two arrays: \\n{np.stack([a,b])} -> created an array of shape,{np.stack([a,b]).shape}')\n",
        "print(f'\\nMethod 2 of vertical stacking two arrays: \\n{np.vstack([a,b])} -> created an array of shape,{np.vstack([a,b]).shape}\\n')\n",
        "\n",
        "'''The result of stacking two 1D arrays vertically created a 2D array of shape (2,3)'''"
      ],
      "metadata": {
        "colab": {
          "base_uri": "https://localhost:8080/",
          "height": 202
        },
        "id": "Hu4Px2m9CKd_",
        "outputId": "cfeb89a2-dcf0-48db-ed41-f42172ae0d22"
      },
      "execution_count": 2,
      "outputs": [
        {
          "output_type": "stream",
          "name": "stdout",
          "text": [
            "Method 1 of vertical stacking two arrays: \n",
            "[[1 2 3]\n",
            " [4 5 6]] -> created an array of shape,(2, 3)\n",
            "\n",
            "Method 2 of vertical stacking two arrays: \n",
            "[[1 2 3]\n",
            " [4 5 6]] -> created an array of shape,(2, 3)\n",
            "\n"
          ]
        },
        {
          "output_type": "execute_result",
          "data": {
            "text/plain": [
              "'The result of stacking two 1D arrays vertically created a 2D array of shape (2,3)'"
            ],
            "application/vnd.google.colaboratory.intrinsic+json": {
              "type": "string"
            }
          },
          "metadata": {},
          "execution_count": 2
        }
      ]
    },
    {
      "cell_type": "code",
      "source": [
        "# There are two ways of stacking a 2d Array one using\n",
        "a,b = np.random.randint(1,10,(2,3)),np.random.randint(1,10,(2,3))\n",
        "print(f'Method 1 of vertical stacking two 2d arrays: \\n{np.stack([a,b])} -> created an array of shape,{np.stack([a,b]).shape}')\n",
        "print(f'\\nMethod 2 of vertical stacking two 2d arrays: \\n{np.vstack([a,b])} -> created an array of shape,{np.vstack([a,b]).shape}\\n')\n",
        "'''While using a simple stack method resulted in a 3d array of size(2,2,3) where as vstack resulted in a 2d array of shape(4,3)'''"
      ],
      "metadata": {
        "colab": {
          "base_uri": "https://localhost:8080/",
          "height": 294
        },
        "id": "bWF4JaUcDb3f",
        "outputId": "ef933f32-1f3d-4b3f-9e6c-16d67094b97d"
      },
      "execution_count": 3,
      "outputs": [
        {
          "output_type": "stream",
          "name": "stdout",
          "text": [
            "Method 1 of vertical stacking two 2d arrays: \n",
            "[[[7 7 3]\n",
            "  [3 8 4]]\n",
            "\n",
            " [[2 8 3]\n",
            "  [5 3 1]]] -> created an array of shape,(2, 2, 3)\n",
            "\n",
            "Method 2 of vertical stacking two 2d arrays: \n",
            "[[7 7 3]\n",
            " [3 8 4]\n",
            " [2 8 3]\n",
            " [5 3 1]] -> created an array of shape,(4, 3)\n",
            "\n"
          ]
        },
        {
          "output_type": "execute_result",
          "data": {
            "text/plain": [
              "'While using a simple stack method resulted in a 3d array of size(2,2,3) where as vstack resulted in a 2d array of shape(4,3)'"
            ],
            "application/vnd.google.colaboratory.intrinsic+json": {
              "type": "string"
            }
          },
          "metadata": {},
          "execution_count": 3
        }
      ]
    },
    {
      "cell_type": "code",
      "source": [
        "x,y = np.array([1,2,3]),np.array([4,5,6])\n",
        "print(f'Method 1 of Horizontal stacking two 1D arrays: \\n{np.stack([x,y],axis=1)} -> created an array of shape,{np.stack([x,y],axis = 1).shape}')\n",
        "print(f'\\nMethod 2 of Horizontal stacking two 1D arrays: \\n{np.hstack([x,y])} -> created an array of shape,{np.hstack([x,y]).shape}\\n')\n",
        "\n",
        "'''While using a simple stack method with axis =1 resulted in a 2d array of size(3,2) where as hstack resulted in a 2d array of shape(6,)'''"
      ],
      "metadata": {
        "colab": {
          "base_uri": "https://localhost:8080/",
          "height": 202
        },
        "id": "XsgAwMxnE9EJ",
        "outputId": "20b2923a-71f2-4a04-a0c1-14ae0df19b89"
      },
      "execution_count": 4,
      "outputs": [
        {
          "output_type": "stream",
          "name": "stdout",
          "text": [
            "Method 1 of Horizontal stacking two 1D arrays: \n",
            "[[1 4]\n",
            " [2 5]\n",
            " [3 6]] -> created an array of shape,(3, 2)\n",
            "\n",
            "Method 2 of Horizontal stacking two 1D arrays: \n",
            "[1 2 3 4 5 6] -> created an array of shape,(6,)\n",
            "\n"
          ]
        },
        {
          "output_type": "execute_result",
          "data": {
            "text/plain": [
              "'While using a simple stack method with axis =1 resulted in a 2d array of size(3,2) where as hstack resulted in a 2d array of shape(6,)'"
            ],
            "application/vnd.google.colaboratory.intrinsic+json": {
              "type": "string"
            }
          },
          "metadata": {},
          "execution_count": 4
        }
      ]
    },
    {
      "cell_type": "code",
      "source": [
        "A,B = np.random.randint(1,10,(3,2)),np.random.randint(1,10,(3,2))\n",
        "print(f'Method 1 of vertical stacking two 2d arrays: \\n{np.stack([A,B],axis =1)} -> created an array of shape,{np.stack([A,B],axis =1).shape}')\n",
        "print(f'\\nMethod 2 of vertical stacking two 2d arrays: \\n{np.hstack([A,B])} -> created an array of shape,{np.hstack([A,B]).shape}\\n')\n",
        "\n",
        "'''While using a simple stack method with axis= 1 resulted in a 3d array of size(3,2,2) where as hstack resulted in a 2d array of shape(3,4)'''"
      ],
      "metadata": {
        "colab": {
          "base_uri": "https://localhost:8080/",
          "height": 331
        },
        "id": "_f03LMOwHArd",
        "outputId": "c32cca4c-48d1-4f24-8d96-e84f10af54e3"
      },
      "execution_count": 5,
      "outputs": [
        {
          "output_type": "stream",
          "name": "stdout",
          "text": [
            "Method 1 of vertical stacking two 2d arrays: \n",
            "[[[3 7]\n",
            "  [1 6]]\n",
            "\n",
            " [[9 8]\n",
            "  [9 4]]\n",
            "\n",
            " [[9 4]\n",
            "  [3 5]]] -> created an array of shape,(3, 2, 2)\n",
            "\n",
            "Method 2 of vertical stacking two 2d arrays: \n",
            "[[3 7 1 6]\n",
            " [9 8 9 4]\n",
            " [9 4 3 5]] -> created an array of shape,(3, 4)\n",
            "\n"
          ]
        },
        {
          "output_type": "execute_result",
          "data": {
            "text/plain": [
              "'While using a simple stack method with axis= 1 resulted in a 3d array of size(3,2,2) where as hstack resulted in a 2d array of shape(3,4)'"
            ],
            "application/vnd.google.colaboratory.intrinsic+json": {
              "type": "string"
            }
          },
          "metadata": {},
          "execution_count": 5
        }
      ]
    },
    {
      "cell_type": "code",
      "source": [
        "np.split(np.array([10,20,30,40,50,60]),3)"
      ],
      "metadata": {
        "colab": {
          "base_uri": "https://localhost:8080/"
        },
        "id": "Svf3tk0OIAoz",
        "outputId": "6ebe93f0-2c6c-4038-8d28-f3e045b71515"
      },
      "execution_count": 6,
      "outputs": [
        {
          "output_type": "execute_result",
          "data": {
            "text/plain": [
              "[array([10, 20]), array([30, 40]), array([50, 60])]"
            ]
          },
          "metadata": {},
          "execution_count": 6
        }
      ]
    },
    {
      "cell_type": "code",
      "source": [
        "np.split(np.array([i for i in range(10,101) if i%10 ==0]),[3,5,9])"
      ],
      "metadata": {
        "colab": {
          "base_uri": "https://localhost:8080/"
        },
        "id": "kIwfkgERIMsZ",
        "outputId": "422276a4-4b60-437b-b9b9-75be22e292d1"
      },
      "execution_count": 7,
      "outputs": [
        {
          "output_type": "execute_result",
          "data": {
            "text/plain": [
              "[array([10, 20, 30]), array([40, 50]), array([60, 70, 80, 90]), array([100])]"
            ]
          },
          "metadata": {},
          "execution_count": 7
        }
      ]
    },
    {
      "cell_type": "code",
      "source": [],
      "metadata": {
        "id": "izvLMLyDLPTO"
      },
      "execution_count": 7,
      "outputs": []
    }
  ]
}