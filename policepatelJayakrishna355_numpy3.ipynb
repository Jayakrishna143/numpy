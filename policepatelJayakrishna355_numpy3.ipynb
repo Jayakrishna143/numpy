{
  "cells": [
    {
      "cell_type": "markdown",
      "metadata": {
        "id": "view-in-github",
        "colab_type": "text"
      },
      "source": [
        "<a href=\"https://colab.research.google.com/github/Jayakrishna143/numpy/blob/main/policepatelJayakrishna355_numpy3.ipynb\" target=\"_parent\"><img src=\"https://colab.research.google.com/assets/colab-badge.svg\" alt=\"Open In Colab\"/></a>"
      ]
    },
    {
      "cell_type": "code",
      "execution_count": 1,
      "id": "8509f9ba",
      "metadata": {
        "id": "8509f9ba"
      },
      "outputs": [],
      "source": [
        "import numpy as np"
      ]
    },
    {
      "cell_type": "markdown",
      "source": [
        "###Q1\n",
        "####A.Generata a numpy array with arange() function.\n",
        "- access element at ehe second index of the NumPy array\n",
        "- slice the first three elements"
      ],
      "metadata": {
        "id": "_3XgCzbb65cs"
      },
      "id": "_3XgCzbb65cs"
    },
    {
      "cell_type": "code",
      "source": [
        "arr = np.arange(10)\n",
        "print(\"Original Array:\", arr)\n",
        "\n",
        "#elements at the second index\n",
        "print(\"Element at index 2:\", arr[2])\n",
        "\n",
        "# first three elements\n",
        "print(\"First three elements:\", arr[:3])\n"
      ],
      "metadata": {
        "colab": {
          "base_uri": "https://localhost:8080/"
        },
        "id": "b2a4GO8W61YB",
        "outputId": "b2f16f8c-a398-47be-c701-0825a00012c9"
      },
      "id": "b2a4GO8W61YB",
      "execution_count": 2,
      "outputs": [
        {
          "output_type": "stream",
          "name": "stdout",
          "text": [
            "Original Array: [0 1 2 3 4 5 6 7 8 9]\n",
            "Element at index 2: 2\n",
            "First three elements: [0 1 2]\n"
          ]
        }
      ]
    },
    {
      "cell_type": "markdown",
      "source": [
        "#### Create a 2d array.\n",
        "- Acess the element in the second row and third column of the 2d array.\n",
        "- Slice the first two rows and columns of the 2D array"
      ],
      "metadata": {
        "id": "svDsKHx17ZLu"
      },
      "id": "svDsKHx17ZLu"
    },
    {
      "cell_type": "code",
      "source": [
        "# 2D array\n",
        "arr_2d = np.array([[1, 2, 3], [4, 5, 6]])\n",
        "print(\"2D Array:\\n\", arr_2d)\n",
        "\n",
        "# element in second row, third column\n",
        "print(\"Element at (2,3):\", arr_2d[1, 2])\n",
        "\n",
        "# first two row and first two columns\n",
        "print(\"First teo rows, first two columns:\\n\", arr_2d[:2, :2])"
      ],
      "metadata": {
        "colab": {
          "base_uri": "https://localhost:8080/"
        },
        "id": "H1c5_hud7zKq",
        "outputId": "478110f9-9736-4208-b78f-40e8297ab964"
      },
      "id": "H1c5_hud7zKq",
      "execution_count": 10,
      "outputs": [
        {
          "output_type": "stream",
          "name": "stdout",
          "text": [
            "2D Array:\n",
            " [[1 2 3]\n",
            " [4 5 6]]\n",
            "Element at (2,3): 6\n",
            "First teo rows, first two columns:\n",
            " [[1 2]\n",
            " [4 5]]\n"
          ]
        }
      ]
    },
    {
      "cell_type": "markdown",
      "source": [
        "###Q2\n",
        "#### A. Create an array that includes values from 1 to 10 wiht a step of 2.\n",
        "#### B, create a 2x3 array using reshape() from 1D array with values 1 to 6"
      ],
      "metadata": {
        "id": "3Hva00d175i5"
      },
      "id": "3Hva00d175i5"
    },
    {
      "cell_type": "code",
      "source": [
        "# array from 1 to 10 with step 2\n",
        "arr_step = np.arange(1, 11, 2)\n",
        "print(\"Array with step 2:\", arr_step)\n",
        "\n",
        "# 2x3 array using reshape\n",
        "arr_reshaped = np.arange(1, 7).reshape(2, 3)\n",
        "print(\"Reshaped 2x3 Array:\\n\", arr_reshaped)"
      ],
      "metadata": {
        "colab": {
          "base_uri": "https://localhost:8080/"
        },
        "id": "kGxC7B7m8ian",
        "outputId": "8131bda7-5c7d-4559-e32c-64f4550a1e1b"
      },
      "id": "kGxC7B7m8ian",
      "execution_count": 7,
      "outputs": [
        {
          "output_type": "stream",
          "name": "stdout",
          "text": [
            "Array with step 2: [1 3 5 7 9]\n",
            "\n",
            "Reshaped 2x3 Array:\n",
            " [[1 2 3]\n",
            " [4 5 6]]\n"
          ]
        }
      ]
    },
    {
      "cell_type": "markdown",
      "source": [
        "###Q3\n",
        "#### Create a 3D array print its shape and then use squeeze() to remove the singleton dimension. Display both the input and output arrays along with their shapes.\n"
      ],
      "metadata": {
        "id": "mfuvG9458sBp"
      },
      "id": "mfuvG9458sBp"
    },
    {
      "cell_type": "code",
      "source": [
        "# 3d array\n",
        "arr_3d = np.array([[[1, 2, 3]]])\n",
        "print(\"\\nOriginal 3D Array:\", arr_3d)\n",
        "print(\"Original Shape:\", arr_3d.shape)\n",
        "# 3d_array squeezed\n",
        "arr_squeeze = np.squeeze(arr_3d)\n",
        "print(\"\\nSqueezed Array:\", arr_squeeze)\n",
        "print(\"Squeezed Shape:\", arr_squeeze.shape)"
      ],
      "metadata": {
        "colab": {
          "base_uri": "https://localhost:8080/"
        },
        "id": "oZ9xjwXK9DxA",
        "outputId": "a8e9c4ef-2e28-46de-8a72-4b1d0715be34"
      },
      "id": "oZ9xjwXK9DxA",
      "execution_count": 12,
      "outputs": [
        {
          "output_type": "stream",
          "name": "stdout",
          "text": [
            "\n",
            "Original 3D Array: [[[1 2 3]]]\n",
            "Original Shape: (1, 1, 3)\n",
            "\n",
            "Squeezed Array: [1 2 3]\n",
            "Squeezed Shape: (3,)\n"
          ]
        }
      ]
    },
    {
      "cell_type": "markdown",
      "source": [
        "###Q4\n",
        "#### Create a  2D NumPy array and use np.expand_dims() to add singleton dimensions. Show the array and its shape before and after each operation."
      ],
      "metadata": {
        "id": "9933h1d09udd"
      },
      "id": "9933h1d09udd"
    },
    {
      "cell_type": "code",
      "source": [
        "#2D array\n",
        "arr_2d = np.array([[1, 2, 3], [4, 5, 6]])\n",
        "print(\"\\nOriginal 2D Array:\\n\", arr_2d)\n",
        "print(\"Original Shape:\", arr_2d.shape)\n",
        "\n",
        "# Expand dimensions along axis 0\n",
        "arr_exp1 = np.expand_dims(arr_2d, axis=0)\n",
        "print(\"Expanded along axis 0:\\n\", arr_exp1)\n",
        "print(\"New Shape:\", arr_exp1.shape)\n",
        "\n",
        "# Expand dimensions along axis 2\n",
        "arr_exp2 = np.expand_dims(arr_2d, axis=2)\n",
        "print(\"Expanded along axis 2:\\n\", arr_exp2)\n",
        "print(\"New Shape:\", arr_exp2.shape)"
      ],
      "metadata": {
        "colab": {
          "base_uri": "https://localhost:8080/"
        },
        "id": "SCEpNwe--AR9",
        "outputId": "d71c5093-ed54-4159-975f-6fb08eb37443"
      },
      "id": "SCEpNwe--AR9",
      "execution_count": 15,
      "outputs": [
        {
          "output_type": "stream",
          "name": "stdout",
          "text": [
            "\n",
            "Original 2D Array:\n",
            " [[1 2 3]\n",
            " [4 5 6]]\n",
            "Original Shape: (2, 3)\n",
            "Expanded along axis 0:\n",
            " [[[1 2 3]\n",
            "  [4 5 6]]]\n",
            "New Shape: (1, 2, 3)\n",
            "Expanded along axis 2:\n",
            " [[[1]\n",
            "  [2]\n",
            "  [3]]\n",
            "\n",
            " [[4]\n",
            "  [5]\n",
            "  [6]]]\n",
            "New Shape: (2, 3, 1)\n"
          ]
        }
      ]
    }
  ],
  "metadata": {
    "colab": {
      "provenance": [],
      "include_colab_link": true
    },
    "language_info": {
      "name": "python"
    },
    "kernelspec": {
      "name": "python3",
      "display_name": "Python 3"
    }
  },
  "nbformat": 4,
  "nbformat_minor": 5
}