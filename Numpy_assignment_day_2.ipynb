{
  "nbformat": 4,
  "nbformat_minor": 0,
  "metadata": {
    "colab": {
      "provenance": [],
      "include_colab_link": true
    },
    "kernelspec": {
      "name": "python3",
      "display_name": "Python 3"
    },
    "language_info": {
      "name": "python"
    }
  },
  "cells": [
    {
      "cell_type": "markdown",
      "metadata": {
        "id": "view-in-github",
        "colab_type": "text"
      },
      "source": [
        "<a href=\"https://colab.research.google.com/github/Jayakrishna143/numpy/blob/main/Numpy_assignment_day_2.ipynb\" target=\"_parent\"><img src=\"https://colab.research.google.com/assets/colab-badge.svg\" alt=\"Open In Colab\"/></a>"
      ]
    },
    {
      "cell_type": "markdown",
      "source": [
        "### NumPy Exercises\n",
        "##### Now that we've learned about NumPy let's test your knowledge. We'll start off with a few simple tasks and then you'll be asked some more complicated questions.\n",
        "##### IMPORTANT NOTE! Make sure you don't run the cells directly above the example output shown, otherwise you will end up writing over the example output!"
      ],
      "metadata": {
        "id": "KRH0lpS88abX"
      }
    },
    {
      "cell_type": "markdown",
      "source": [
        "##### import numpy as np\n"
      ],
      "metadata": {
        "id": "9KzpS47XBTWm"
      }
    },
    {
      "cell_type": "markdown",
      "source": [
        "###### 1. Write a NumPy program to find the missing data in a given array."
      ],
      "metadata": {
        "id": "V6ntuSvDBZ2G"
      }
    },
    {
      "cell_type": "code",
      "execution_count": 1,
      "metadata": {
        "id": "Z94k4mpaBClu",
        "colab": {
          "base_uri": "https://localhost:8080/"
        },
        "outputId": "de82bbee-44c8-4076-ac95-5e911f0d7e22"
      },
      "outputs": [
        {
          "output_type": "stream",
          "name": "stdout",
          "text": [
            "Original_array:\n",
            "[[ 3.  2. nan  1.]\n",
            " [10. 12. 10.  9.]\n",
            " [ 5. nan  1. nan]] \n",
            "Find the missing data of the said array: \n",
            " [[False False  True False]\n",
            " [False False False False]\n",
            " [False  True False  True]]\n"
          ]
        }
      ],
      "source": [
        "### code here\n",
        "import numpy as np\n",
        "Original_array = np.array([3, 2, np.nan, 1, 10, 12, 10, 9, 5, np.nan, 1, np.nan]).reshape(3, 4)\n",
        "print(f'Original_array:\\n{Original_array} \\nFind the missing data of the said array: \\n {np.isnan(Original_array)}')"
      ]
    },
    {
      "cell_type": "markdown",
      "source": [
        "##### 2. Write a NumPy program to check whether two arrays are equal (element wise) or not."
      ],
      "metadata": {
        "id": "jT038BYtB0la"
      }
    },
    {
      "cell_type": "code",
      "source": [
        "### code here\n",
        "def isequal(x,y):\n",
        "    equal = True\n",
        "    for i,j in zip(x,y):\n",
        "        for a,b in zip(i,j):\n",
        "            if a==b:\n",
        "                equal = True\n",
        "            else:\n",
        "                equal = False\n",
        "    return equal\n",
        "\n",
        "\n",
        "\n",
        "print(isequal(np.arange(1,10).reshape(3,3),(np.arange(1,10).reshape(3,3))))\n",
        "print(isequal(np.random.randint(1,10,(3,3)),np.random.randint(1,10,(3,3))))"
      ],
      "metadata": {
        "id": "0aJczGNjBfL1",
        "colab": {
          "base_uri": "https://localhost:8080/"
        },
        "outputId": "de6ab20a-a0d9-4df2-a595-571f1b0069d5"
      },
      "execution_count": 3,
      "outputs": [
        {
          "output_type": "stream",
          "name": "stdout",
          "text": [
            "True\n",
            "False\n"
          ]
        }
      ]
    },
    {
      "cell_type": "code",
      "source": [
        "# method 2\n",
        "def isequal(x,y):\n",
        "    return np.array_equal(x,y)\n",
        "print(isequal(np.arange(1,10).reshape(3,3),(np.arange(1,10).reshape(3,3))))\n",
        "print(isequal(np.random.randint(1,10,(3,3)),np.random.randint(1,10,(3,3))))"
      ],
      "metadata": {
        "colab": {
          "base_uri": "https://localhost:8080/"
        },
        "id": "BBbnywDz1XQm",
        "outputId": "b99a8044-7faf-4a21-d0ef-431dc627dff7"
      },
      "execution_count": 4,
      "outputs": [
        {
          "output_type": "stream",
          "name": "stdout",
          "text": [
            "True\n",
            "False\n"
          ]
        }
      ]
    },
    {
      "cell_type": "markdown",
      "source": [
        "###### 3. Write a NumPy program to create a 4x4 array with random values, now create a new array from the said array swapping first and last rows."
      ],
      "metadata": {
        "id": "XhX1H1M_CI7S"
      }
    },
    {
      "cell_type": "code",
      "source": [
        "## code here\n",
        "Original_array = np.arange(16).reshape(4,4)\n",
        "print(f'Original_array:\\n{Original_array}')\n",
        "Original_array[[0,-1]] = Original_array[[-1,0]]\n",
        "print(f'New array after swapping first and last rows of the said array:\\n {Original_array}')\n"
      ],
      "metadata": {
        "id": "3HazIhbtBfOq",
        "colab": {
          "base_uri": "https://localhost:8080/"
        },
        "outputId": "8fbf4bd3-8123-44ca-b482-69190d0a613e"
      },
      "execution_count": 5,
      "outputs": [
        {
          "output_type": "stream",
          "name": "stdout",
          "text": [
            "Original_array:\n",
            "[[ 0  1  2  3]\n",
            " [ 4  5  6  7]\n",
            " [ 8  9 10 11]\n",
            " [12 13 14 15]]\n",
            "New array after swapping first and last rows of the said array:\n",
            " [[12 13 14 15]\n",
            " [ 4  5  6  7]\n",
            " [ 8  9 10 11]\n",
            " [ 0  1  2  3]]\n"
          ]
        }
      ]
    },
    {
      "cell_type": "markdown",
      "source": [
        "###### 4. Write a NumPy program to convert a list and tuple into arrays."
      ],
      "metadata": {
        "id": "BYgy22u_kqsB"
      }
    },
    {
      "cell_type": "code",
      "source": [
        "#### code here\n",
        "print(f'Array using tuple :\\n{np.array((1,2,3,4,5,6,7,8,9)).reshape(3,3)}')\n",
        "print(f'Array using list :\\n{np.array([1,2,3,4,5,6,7,8,9]).reshape(3,3)}')"
      ],
      "metadata": {
        "id": "Hgmgw7J2BfUQ",
        "colab": {
          "base_uri": "https://localhost:8080/"
        },
        "outputId": "42730fed-5643-4660-e883-59933805b5c6"
      },
      "execution_count": 7,
      "outputs": [
        {
          "output_type": "stream",
          "name": "stdout",
          "text": [
            "Array using tuple :\n",
            "[[1 2 3]\n",
            " [4 5 6]\n",
            " [7 8 9]]\n",
            "Array using list :\n",
            "[[1 2 3]\n",
            " [4 5 6]\n",
            " [7 8 9]]\n"
          ]
        }
      ]
    },
    {
      "cell_type": "markdown",
      "source": [
        "###### 5. Write a NumPy program to find common values between two arrays."
      ],
      "metadata": {
        "id": "jzp2hg44k5O0"
      }
    },
    {
      "cell_type": "code",
      "source": [
        "### code here\n",
        "arr = np.random.randint(1,10,(3,3))\n",
        "arr1 = np.random.randint(1,10,(3,3))\n",
        "np.intersect1d(arr,arr1)"
      ],
      "metadata": {
        "id": "1QMJVl3LBfWm",
        "colab": {
          "base_uri": "https://localhost:8080/"
        },
        "outputId": "45d0b309-a644-4e5b-f1ce-91e6d3b61225"
      },
      "execution_count": 8,
      "outputs": [
        {
          "output_type": "execute_result",
          "data": {
            "text/plain": [
              "array([1, 2, 4, 5, 6])"
            ]
          },
          "metadata": {},
          "execution_count": 8
        }
      ]
    },
    {
      "cell_type": "markdown",
      "source": [
        "###### 6. Write a NumPy program to create a new shape to an array without changing its data."
      ],
      "metadata": {
        "id": "Llt6X9k66TMD"
      }
    },
    {
      "cell_type": "code",
      "source": [
        "### code here\n",
        "\n",
        "print(f'Array with shape (1,9):\\n{np.arange(1,10).reshape(1,9)}\\n')\n",
        "print(f'Array with shape (9,1):\\n{np.arange(1,10).reshape(9,1)}\\n')\n",
        "print(f'Array with shape (3,3):\\n{np.arange(1,10).reshape(3,3)}\\n')"
      ],
      "metadata": {
        "id": "rNh8SssUBfZQ",
        "colab": {
          "base_uri": "https://localhost:8080/"
        },
        "outputId": "c0ac01ae-4222-4ce5-fba8-0743d3e59965"
      },
      "execution_count": 9,
      "outputs": [
        {
          "output_type": "stream",
          "name": "stdout",
          "text": [
            "Array with shape (1,9):\n",
            "[[1 2 3 4 5 6 7 8 9]]\n",
            "\n",
            "Array with shape (9,1):\n",
            "[[1]\n",
            " [2]\n",
            " [3]\n",
            " [4]\n",
            " [5]\n",
            " [6]\n",
            " [7]\n",
            " [8]\n",
            " [9]]\n",
            "\n",
            "Array with shape (3,3):\n",
            "[[1 2 3]\n",
            " [4 5 6]\n",
            " [7 8 9]]\n",
            "\n"
          ]
        }
      ]
    },
    {
      "cell_type": "markdown",
      "source": [
        "###### 7. Write a NumPy program to count the frequency of unique values in numpy array."
      ],
      "metadata": {
        "id": "nf03MRSR7JFB"
      }
    },
    {
      "cell_type": "code",
      "source": [
        "### code here\n",
        "arr = np.array([10,10,20,10,20,20,20,30,30,50,40,40])\n",
        "print(f'Original array: \\n{arr}')\n",
        "freq,count = np.unique(arr, return_counts=True)\n",
        "print(f'Frequency of unique values of the said array:\\n{freq} \\n{count}')\n"
      ],
      "metadata": {
        "id": "NqJxDKOs6dZN",
        "colab": {
          "base_uri": "https://localhost:8080/"
        },
        "outputId": "f5f8dde0-85e1-41d4-95a5-ac6fd619d0d7"
      },
      "execution_count": 11,
      "outputs": [
        {
          "output_type": "stream",
          "name": "stdout",
          "text": [
            "Original array: \n",
            "[10 10 20 10 20 20 20 30 30 50 40 40]\n",
            "Frequency of unique values of the said array:\n",
            "[10 20 30 40 50] \n",
            "[3 4 2 2 1]\n"
          ]
        }
      ]
    },
    {
      "cell_type": "markdown",
      "source": [
        "###### 8. Write a NumPy program to broadcast on different shapes of arrays where p(3,3) + q(3)."
      ],
      "metadata": {
        "id": "a5wvDisr9SGS"
      }
    },
    {
      "cell_type": "code",
      "source": [
        "### code here\n",
        "arr1 = np.array([0,0,0,1,2,3,4,5,6]).reshape(3,3)\n",
        "arr2 = np.array([10,11,12])\n",
        "print(f'Original Arrays:\\nArray_1\\n{arr1}\\nArray_2\\n{arr2}')\n",
        "print()\n",
        "print(f'New Array: \\n{arr1+arr2}')"
      ],
      "metadata": {
        "id": "B3hjEaCw6dfJ",
        "colab": {
          "base_uri": "https://localhost:8080/"
        },
        "outputId": "77392ab9-fecc-4de5-a6ab-f2bbe8639cc3"
      },
      "execution_count": 13,
      "outputs": [
        {
          "output_type": "stream",
          "name": "stdout",
          "text": [
            "Original Arrays:\n",
            "Array_1\n",
            "[[0 0 0]\n",
            " [1 2 3]\n",
            " [4 5 6]]\n",
            "Array_2\n",
            "[10 11 12]\n",
            "\n",
            "New Array: \n",
            "[[10 11 12]\n",
            " [11 13 15]\n",
            " [14 16 18]]\n"
          ]
        }
      ]
    },
    {
      "cell_type": "markdown",
      "source": [
        "###### 9. Write a NumPy program to extract all the elements of the second row from a given (4x4) array."
      ],
      "metadata": {
        "id": "W9mCoSxU92BL"
      }
    },
    {
      "cell_type": "code",
      "source": [
        "### code here\n",
        "arra_data = np.arange(0,16).reshape((4, 4))\n",
        "print(\"Original array:\")\n",
        "print(arra_data)\n",
        "print(\"\\nExtracted data: Second row\")\n",
        "print(arra_data[1,:])"
      ],
      "metadata": {
        "id": "V88Mi3yhBfgI",
        "colab": {
          "base_uri": "https://localhost:8080/"
        },
        "outputId": "3a53121d-4552-4e63-ba9a-e42abb669b1a"
      },
      "execution_count": 15,
      "outputs": [
        {
          "output_type": "stream",
          "name": "stdout",
          "text": [
            "Original array:\n",
            "[[ 0  1  2  3]\n",
            " [ 4  5  6  7]\n",
            " [ 8  9 10 11]\n",
            " [12 13 14 15]]\n",
            "\n",
            "Extracted data: Second row\n",
            "[4 5 6 7]\n"
          ]
        }
      ]
    },
    {
      "cell_type": "markdown",
      "source": [
        "###### 10. Write a NumPy program to extract third and fourth elements of the first and second rows from a given (4x4) array."
      ],
      "metadata": {
        "id": "t76Rc47gATll"
      }
    },
    {
      "cell_type": "code",
      "source": [
        "## code here\n",
        "arr = np.arange(16).reshape(4,4)\n",
        "print(f'Original array:\\n{arr}')\n",
        "print(f'Extracted data: Third and fourth elements of the first and second rows:\\n{arr[:2,2:4]}')\n"
      ],
      "metadata": {
        "id": "tLyK4ieP91V_",
        "colab": {
          "base_uri": "https://localhost:8080/"
        },
        "outputId": "72feec3c-c6e4-45a2-dd38-f67ec94e3373"
      },
      "execution_count": 17,
      "outputs": [
        {
          "output_type": "stream",
          "name": "stdout",
          "text": [
            "Original array:\n",
            "[[ 0  1  2  3]\n",
            " [ 4  5  6  7]\n",
            " [ 8  9 10 11]\n",
            " [12 13 14 15]]\n",
            "Extracted data: Third and fourth elements of the first and second rows:\n",
            "[[2 3]\n",
            " [6 7]]\n"
          ]
        }
      ]
    },
    {
      "cell_type": "markdown",
      "source": [
        "###### 11. Write a NumPy program to get the dates of yesterday, today and tomorrow."
      ],
      "metadata": {
        "id": "mES8f4RDFxtM"
      }
    },
    {
      "cell_type": "code",
      "source": [
        "today = np.datetime64('today', 'D')\n",
        "yesterday = today - np.timedelta64(1, 'D')\n",
        "tomorrow = today + np.timedelta64(1, 'D')\n",
        "print(\"Yesterday:\", yesterday)\n",
        "print(\"Today:\", today)\n",
        "print(\"Tomorrow:\", tomorrow)"
      ],
      "metadata": {
        "colab": {
          "base_uri": "https://localhost:8080/"
        },
        "id": "Amy6FeFv9xzB",
        "outputId": "ea492e63-e1a9-4db1-b4fd-f0c4d674c8d9"
      },
      "execution_count": 19,
      "outputs": [
        {
          "output_type": "stream",
          "name": "stdout",
          "text": [
            "Yesterday: 2025-02-14\n",
            "Today: 2025-02-15\n",
            "Tomorrow: 2025-02-16\n"
          ]
        }
      ]
    },
    {
      "cell_type": "markdown",
      "source": [
        "###### 12. Write a NumPy program to find the first Monday in May 2017."
      ],
      "metadata": {
        "id": "-y3xiL7_GZ3D"
      }
    },
    {
      "cell_type": "code",
      "source": [
        "## code here\n",
        "date = np.busday_offset('2017-05',0,weekmask='Mon')\n",
        "print(f'First Monday in may 2017:\\n{date}')"
      ],
      "metadata": {
        "id": "roe76-pSGNX4",
        "colab": {
          "base_uri": "https://localhost:8080/"
        },
        "outputId": "8097035f-7f53-4022-a99f-c76fae9b22c8"
      },
      "execution_count": 20,
      "outputs": [
        {
          "output_type": "stream",
          "name": "stdout",
          "text": [
            "First Monday in may 2017:\n",
            "2017-05-01\n"
          ]
        }
      ]
    }
  ]
}