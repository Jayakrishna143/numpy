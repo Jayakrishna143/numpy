{
  "nbformat": 4,
  "nbformat_minor": 0,
  "metadata": {
    "colab": {
      "provenance": [],
      "include_colab_link": true
    },
    "kernelspec": {
      "name": "python3",
      "display_name": "Python 3"
    },
    "language_info": {
      "name": "python"
    }
  },
  "cells": [
    {
      "cell_type": "markdown",
      "metadata": {
        "id": "view-in-github",
        "colab_type": "text"
      },
      "source": [
        "<a href=\"https://colab.research.google.com/github/Jayakrishna143/numpy/blob/main/P_Jayakrishna_Redy_Numpy_assignment_1.ipynb\" target=\"_parent\"><img src=\"https://colab.research.google.com/assets/colab-badge.svg\" alt=\"Open In Colab\"/></a>"
      ]
    },
    {
      "cell_type": "markdown",
      "source": [
        "### NumPy Exercises\n",
        "##### Now that we've learned about NumPy let's test your knowledge. We'll start off with a few simple tasks and then you'll be asked some more complicated questions.\n",
        "##### IMPORTANT NOTE! Make sure you don't run the cells directly above the example output shown, otherwise you will end up writing over the example output!"
      ],
      "metadata": {
        "id": "F6px4MSR51Gu"
      }
    },
    {
      "cell_type": "code",
      "execution_count": null,
      "metadata": {
        "id": "Qe-tLGBa2sNS"
      },
      "outputs": [],
      "source": [
        "import numpy as np"
      ]
    },
    {
      "cell_type": "markdown",
      "source": [
        "#####1.  Write a NumPy program to create an array of 10 zeros,10 ones, 10 fives."
      ],
      "metadata": {
        "id": "TAAoEMyE6bj6"
      }
    },
    {
      "cell_type": "code",
      "source": [
        "### code here\n",
        "print(f'An array of 10 Zeros: \\n {np.zeros(10)}')\n",
        "print(f'An array of 10 Ones: \\n {np.ones(10)}',)\n",
        "print(f'An array of 10 fives: \\n {np.full((1,10),5)}',)"
      ],
      "metadata": {
        "id": "_BxASjIo6B1X",
        "colab": {
          "base_uri": "https://localhost:8080/"
        },
        "outputId": "07cfa573-fd68-4bf8-f375-16117b6c5c23"
      },
      "execution_count": null,
      "outputs": [
        {
          "output_type": "stream",
          "name": "stdout",
          "text": [
            "An array of 10 Zeros: \n",
            " [0. 0. 0. 0. 0. 0. 0. 0. 0. 0.]\n",
            "An array of 10 Ones: \n",
            " [1. 1. 1. 1. 1. 1. 1. 1. 1. 1.]\n",
            "An array of 10 fives: \n",
            " [[5 5 5 5 5 5 5 5 5 5]]\n"
          ]
        }
      ]
    },
    {
      "cell_type": "code",
      "source": [
        "## sample output\n"
      ],
      "metadata": {
        "colab": {
          "base_uri": "https://localhost:8080/"
        },
        "id": "yqbzsu4R7S_E",
        "outputId": "30cdd8f5-1873-4993-f8c8-7ab6cd7729f8"
      },
      "execution_count": null,
      "outputs": [
        {
          "output_type": "stream",
          "name": "stdout",
          "text": [
            "An array of 10 zeros:\n",
            "[0. 0. 0. 0. 0. 0. 0. 0. 0. 0.]\n",
            "An array of 10 ones:\n",
            "[1. 1. 1. 1. 1. 1. 1. 1. 1. 1.]\n",
            "An array of 10 fives:\n",
            "[5. 5. 5. 5. 5. 5. 5. 5. 5. 5.]\n"
          ]
        }
      ]
    },
    {
      "cell_type": "markdown",
      "source": [
        "#####2.  Write a NumPy program to create an array of the integers from 30 to 70."
      ],
      "metadata": {
        "id": "6gbrDc0_6ja8"
      }
    },
    {
      "cell_type": "code",
      "source": [
        "print(f'Array of the integers from 30 to 70:\\n {np.arange(30,71)}')\n"
      ],
      "metadata": {
        "id": "Rrdz7C556B4Y",
        "colab": {
          "base_uri": "https://localhost:8080/"
        },
        "outputId": "eb1cd004-6d4e-4ee4-a1fe-3a1203bc64dd"
      },
      "execution_count": null,
      "outputs": [
        {
          "output_type": "stream",
          "name": "stdout",
          "text": [
            "Array of the integers from 30 to 70:\n",
            " [30 31 32 33 34 35 36 37 38 39 40 41 42 43 44 45 46 47 48 49 50 51 52 53\n",
            " 54 55 56 57 58 59 60 61 62 63 64 65 66 67 68 69 70]\n"
          ]
        }
      ]
    },
    {
      "cell_type": "code",
      "source": [
        "### sample output"
      ],
      "metadata": {
        "colab": {
          "base_uri": "https://localhost:8080/"
        },
        "id": "S8kKjMd79rrK",
        "outputId": "a0437049-a596-4a17-90a8-d98e40ce7baf"
      },
      "execution_count": null,
      "outputs": [
        {
          "output_type": "stream",
          "name": "stdout",
          "text": [
            "Array of the integers from 30 to70\n",
            "[30 31 32 33 34 35 36 37 38 39 40 41 42 43 44 45 46 47 48 49 50 51 52 53\n",
            " 54 55 56 57 58 59 60 61 62 63 64 65 66 67 68 69 70]\n"
          ]
        }
      ]
    },
    {
      "cell_type": "markdown",
      "source": [
        "######3. Write a NumPy program to create an array of all the even integers from 10 to 50."
      ],
      "metadata": {
        "id": "-1Z-hSI66oXd"
      }
    },
    {
      "cell_type": "code",
      "source": [
        "### code here\n",
        "x = np.arange(10,50)\n",
        "print('Array of all the even integers from 10 to 50:')\n",
        "print(x[::2])"
      ],
      "metadata": {
        "id": "-TwKGj2o6nBV",
        "colab": {
          "base_uri": "https://localhost:8080/"
        },
        "outputId": "80505801-87be-491a-868a-dc07eb1d6c5d"
      },
      "execution_count": null,
      "outputs": [
        {
          "output_type": "stream",
          "name": "stdout",
          "text": [
            "Array of all the even integers from 10 to 50:\n",
            "[10 12 14 16 18 20 22 24 26 28 30 32 34 36 38 40 42 44 46 48]\n"
          ]
        }
      ]
    },
    {
      "cell_type": "code",
      "source": [
        "## sample output\n"
      ],
      "metadata": {
        "colab": {
          "base_uri": "https://localhost:8080/"
        },
        "id": "qo8PSuCZ99KT",
        "outputId": "963a4f7b-b9e9-4701-bab1-62d8f824ed67"
      },
      "execution_count": null,
      "outputs": [
        {
          "output_type": "stream",
          "name": "stdout",
          "text": [
            "Array of all the even integers from 10 to 50\n",
            "[10 12 14 16 18 20 22 24 26 28 30 32 34 36 38 40 42 44 46 48]\n"
          ]
        }
      ]
    },
    {
      "cell_type": "markdown",
      "source": [
        "######4. Write a NumPy program to create a 3x3 identity matrix."
      ],
      "metadata": {
        "id": "av8golKd6z8l"
      }
    },
    {
      "cell_type": "code",
      "source": [
        "### code here\n",
        "print(f'3x3 matrix:\\n { np.eye(3)}')"
      ],
      "metadata": {
        "id": "A4oaHF5L6nDB",
        "colab": {
          "base_uri": "https://localhost:8080/"
        },
        "outputId": "418e8688-6d0f-4473-917a-19b89781c074"
      },
      "execution_count": null,
      "outputs": [
        {
          "output_type": "stream",
          "name": "stdout",
          "text": [
            "3x3 matrix:\n",
            " [[1. 0. 0.]\n",
            " [0. 1. 0.]\n",
            " [0. 0. 1.]]\n"
          ]
        }
      ]
    },
    {
      "cell_type": "code",
      "source": [
        "## sample output"
      ],
      "metadata": {
        "colab": {
          "base_uri": "https://localhost:8080/"
        },
        "id": "Gju3JHbf-PLV",
        "outputId": "9d66d3e7-6d54-4d20-c386-c12fbcdcf644"
      },
      "execution_count": null,
      "outputs": [
        {
          "output_type": "stream",
          "name": "stdout",
          "text": [
            "3x3 matrix:\n",
            "[[1. 0. 0.]\n",
            " [0. 1. 0.]\n",
            " [0. 0. 1.]]\n"
          ]
        }
      ]
    },
    {
      "cell_type": "markdown",
      "source": [
        "##### 5. Write a NumPy program to generate a random number between 0 and 1"
      ],
      "metadata": {
        "id": "bmfuxShM-nvi"
      }
    },
    {
      "cell_type": "code",
      "source": [
        "### code here\n",
        "print(f'Random number between 0 and 1: \\n {[np.random.rand()]}')"
      ],
      "metadata": {
        "id": "ufPWx-Bo6nFv",
        "colab": {
          "base_uri": "https://localhost:8080/"
        },
        "outputId": "bfe8bc33-8075-46b4-f466-898098648cdf"
      },
      "execution_count": null,
      "outputs": [
        {
          "output_type": "stream",
          "name": "stdout",
          "text": [
            "Random number between 0 and 1: \n",
            " [0.4955534229806342]\n"
          ]
        }
      ]
    },
    {
      "cell_type": "code",
      "source": [
        "## sample output"
      ],
      "metadata": {
        "colab": {
          "base_uri": "https://localhost:8080/"
        },
        "id": "9PRNc0Pg6nIO",
        "outputId": "e90f72bd-aba1-43f4-d503-cfbf8af660f1"
      },
      "execution_count": null,
      "outputs": [
        {
          "output_type": "stream",
          "name": "stdout",
          "text": [
            "Random number between 0 and 1:\n",
            "[0.40400053]\n"
          ]
        }
      ]
    },
    {
      "cell_type": "markdown",
      "source": [
        "###### 6. Write a NumPy program to generate an array of 15 random numbers from a standard normal distribution."
      ],
      "metadata": {
        "id": "hm-lJXi--3px"
      }
    },
    {
      "cell_type": "code",
      "source": [
        "## code here\n",
        "print(f'15 random numbers from a standard normal distribution:\\n {np.random.normal(0,1,(15))}')"
      ],
      "metadata": {
        "id": "tFPEvuTr6nMg",
        "colab": {
          "base_uri": "https://localhost:8080/"
        },
        "outputId": "0608d6ed-2440-4e9a-afdb-64f5932713fe"
      },
      "execution_count": null,
      "outputs": [
        {
          "output_type": "stream",
          "name": "stdout",
          "text": [
            "15 random numbers from a standard normal distribution:\n",
            " [-0.22615159  0.24738867 -1.00351734 -0.3162913  -0.2511493  -0.64372917\n",
            " -0.09068351  1.01831606  1.19501358 -0.25520297  0.26455049  2.32034906\n",
            "  0.55605684  0.74149799  0.35132343]\n"
          ]
        }
      ]
    },
    {
      "cell_type": "code",
      "source": [
        "## sample output"
      ],
      "metadata": {
        "colab": {
          "base_uri": "https://localhost:8080/"
        },
        "id": "DfcnbfwC6B8c",
        "outputId": "d20e56db-910d-4532-8a84-a867b154f069"
      },
      "execution_count": null,
      "outputs": [
        {
          "output_type": "stream",
          "name": "stdout",
          "text": [
            "15 random numbers from a standard normal distribution:\n",
            "[ 0.68439314  1.50916987 -0.75364839  0.1038106   0.07789927 -0.15349755\n",
            "  1.78151615  0.49989426  0.18791322 -1.51931266 -0.55512066  2.02808972\n",
            "  0.37648568  0.57999878 -0.31095957]\n"
          ]
        }
      ]
    },
    {
      "cell_type": "markdown",
      "source": [
        "###### 7. Write a NumPy program to create a 3X4 array using and iterate over it."
      ],
      "metadata": {
        "id": "UIMv6m1t_G7q"
      }
    },
    {
      "cell_type": "code",
      "source": [
        "## code here\n",
        "x=np.random.randint(10,22,(3,4))\n",
        "print(f'Original Array: \\n {x}\\n Each element of the array is:')\n",
        "for i in x:\n",
        "    for j in i:\n",
        "        print(j, end=\" \" )"
      ],
      "metadata": {
        "id": "WyYvr-ly-7y5",
        "colab": {
          "base_uri": "https://localhost:8080/"
        },
        "outputId": "905f2ab6-ba09-452f-dc3c-2e1919898393"
      },
      "execution_count": null,
      "outputs": [
        {
          "output_type": "stream",
          "name": "stdout",
          "text": [
            "Original Array: \n",
            " [[17 21 15 19]\n",
            " [21 20 14 10]\n",
            " [17 16 18 13]]\n",
            " Each element of the array is:\n",
            "17 21 15 19 21 20 14 10 17 16 18 13 "
          ]
        }
      ]
    },
    {
      "cell_type": "code",
      "source": [
        "## sample output"
      ],
      "metadata": {
        "colab": {
          "base_uri": "https://localhost:8080/"
        },
        "id": "T_oeyAt8_Jv-",
        "outputId": "dd6207cd-8b15-4d98-fdd8-e109262fec5b"
      },
      "execution_count": null,
      "outputs": [
        {
          "output_type": "stream",
          "name": "stdout",
          "text": [
            "Original array:\n",
            "[[10 11 12 13]\n",
            " [14 15 16 17]\n",
            " [18 19 20 21]]\n",
            "Each element of the array is:\n",
            "10 11 12 13 14 15 16 17 18 19 20 21 "
          ]
        }
      ]
    },
    {
      "cell_type": "markdown",
      "source": [
        "###### 8. Write a NumPy program to multiply the values ​​of two given vectors."
      ],
      "metadata": {
        "id": "pMshtaUT_fT0"
      }
    },
    {
      "cell_type": "code",
      "source": [
        "## code here\n",
        "print(f'Vector-1 \\n{np.array([1,8,3,5])}\\nVector-2 \\n{np.array([10,1,4,10])} \\nMultiply the values of two vectors \\n{np.multiply(np.array([1,8,3,5]),np.array([10,1,4,10]))}')"
      ],
      "metadata": {
        "id": "hD8Uk9J0_JxY",
        "colab": {
          "base_uri": "https://localhost:8080/"
        },
        "outputId": "38c9f0ee-a1e3-47d0-87af-e8b1980bed8d"
      },
      "execution_count": null,
      "outputs": [
        {
          "output_type": "stream",
          "name": "stdout",
          "text": [
            "Vector-1 \n",
            "[1 8 3 5]\n",
            "Vector-2 \n",
            "[10  1  4 10] \n",
            "Multiply the values of two vectors \n",
            "[10  8 12 50]\n"
          ]
        }
      ]
    },
    {
      "cell_type": "code",
      "source": [
        "## sample output"
      ],
      "metadata": {
        "colab": {
          "base_uri": "https://localhost:8080/"
        },
        "id": "wVIZTuNW_kZ3",
        "outputId": "8d259f41-f447-4480-d452-da123a8db61e"
      },
      "execution_count": null,
      "outputs": [
        {
          "output_type": "stream",
          "name": "stdout",
          "text": [
            "Vector-1\n",
            "[1 8 3 5]\n",
            "Vector-2\n",
            "[10  1  4 10]\n",
            "Multiply the values of two said vectors:\n",
            "[10  8 12 50]\n"
          ]
        }
      ]
    },
    {
      "cell_type": "markdown",
      "source": [
        "###### 9. Write a NumPy program to reverse an array (first element becomes last)."
      ],
      "metadata": {
        "id": "h7ny_Xci_07Q"
      }
    },
    {
      "cell_type": "code",
      "source": [
        "### code here\n",
        "x = np.array([12,13,14, 15, 16, 17, 18, 19, 20, 21, 22, 23, 24, 25, 26, 27, 28, 29, 30, 31,32,33, 34, 35, 36, 37])\n",
        "print(f'Original array: \\n{x} \\n Revese array: \\n{x[::-1]}')"
      ],
      "metadata": {
        "id": "CQZLCU4Z_J0M",
        "colab": {
          "base_uri": "https://localhost:8080/"
        },
        "outputId": "24306b10-a3f9-4201-9577-d8476744eedf"
      },
      "execution_count": null,
      "outputs": [
        {
          "output_type": "stream",
          "name": "stdout",
          "text": [
            "Original array: \n",
            "[12 13 14 15 16 17 18 19 20 21 22 23 24 25 26 27 28 29 30 31 32 33 34 35\n",
            " 36 37] \n",
            " Revese array: \n",
            "[37 36 35 34 33 32 31 30 29 28 27 26 25 24 23 22 21 20 19 18 17 16 15 14\n",
            " 13 12]\n"
          ]
        }
      ]
    },
    {
      "cell_type": "code",
      "source": [
        "## sample output"
      ],
      "metadata": {
        "colab": {
          "base_uri": "https://localhost:8080/"
        },
        "id": "6zOol0u2_J21",
        "outputId": "b1772711-603d-468e-bdc3-d675873cf5fd"
      },
      "execution_count": null,
      "outputs": [
        {
          "output_type": "stream",
          "name": "stdout",
          "text": [
            "Original array:\n",
            "[12 13 14 15 16 17 18 19 20 21 22 23 24 25 26 27 28 29 30 31 32 33 34 35\n",
            " 36 37]\n",
            "Reverse array:\n",
            "[37 36 35 34 33 32 31 30 29 28 27 26 25 24 23 22 21 20 19 18 17 16 15 14\n",
            " 13 12]\n"
          ]
        }
      ]
    },
    {
      "cell_type": "markdown",
      "source": [
        "##### 10. Write a NumPy program to create a 5x5 zero matrix with elements on the main diagonal equal to 1, 2, 3, 4, 5."
      ],
      "metadata": {
        "id": "-y0LYMweAC3M"
      }
    },
    {
      "cell_type": "code",
      "source": [
        "## code here\n",
        "x= np.zeros((5,5),dtype='int8')\n",
        "np.fill_diagonal(x,[1,2,3,4,5])\n",
        "print(x)\n"
      ],
      "metadata": {
        "id": "nJnstERf_J5T",
        "colab": {
          "base_uri": "https://localhost:8080/"
        },
        "outputId": "75ec5323-22a7-402e-f5d4-6b6f422bcac8"
      },
      "execution_count": null,
      "outputs": [
        {
          "output_type": "stream",
          "name": "stdout",
          "text": [
            "[[1 0 0 0 0]\n",
            " [0 2 0 0 0]\n",
            " [0 0 3 0 0]\n",
            " [0 0 0 4 0]\n",
            " [0 0 0 0 5]]\n"
          ]
        }
      ]
    },
    {
      "cell_type": "code",
      "source": [
        "## sample output"
      ],
      "metadata": {
        "colab": {
          "base_uri": "https://localhost:8080/"
        },
        "id": "rOh6nIXl_J78",
        "outputId": "84736fa7-e5a0-4e8e-c8f2-06005fc5502a"
      },
      "execution_count": null,
      "outputs": [
        {
          "output_type": "stream",
          "name": "stdout",
          "text": [
            "[[1 0 0 0 0]\n",
            " [0 2 0 0 0]\n",
            " [0 0 3 0 0]\n",
            " [0 0 0 4 0]\n",
            " [0 0 0 0 5]]\n"
          ]
        }
      ]
    },
    {
      "cell_type": "markdown",
      "source": [
        "###### 11. Write a NumPy program to compute sum of all elements, sum of each column and sum of each row of a given array."
      ],
      "metadata": {
        "id": "h7nmiqKNAYH1"
      }
    },
    {
      "cell_type": "code",
      "source": [
        "## code here\n",
        "x= np.arange(4).reshape(2,2)\n",
        "print(f'Original array:\\n{x} \\n Sum of all elements:\\n{np.sum(x)}\\n sum of each column: \\n{np.sum(x,axis = 0)}\\n sum of each row: \\n{np.sum(x,axis = 1)}')"
      ],
      "metadata": {
        "id": "zWHfl9BS_J-a",
        "colab": {
          "base_uri": "https://localhost:8080/"
        },
        "outputId": "5bde5b18-4094-495e-974d-fe858e83cc6e"
      },
      "execution_count": null,
      "outputs": [
        {
          "output_type": "stream",
          "name": "stdout",
          "text": [
            "Original array:\n",
            "[[0 1]\n",
            " [2 3]] \n",
            " Sum of all elements:\n",
            "6\n",
            " sum of each column: \n",
            "[2 4]\n",
            " sum of each row: \n",
            "[1 5]\n"
          ]
        }
      ]
    },
    {
      "cell_type": "code",
      "source": [
        "## sample output"
      ],
      "metadata": {
        "colab": {
          "base_uri": "https://localhost:8080/"
        },
        "id": "CLTx-HRh_KBI",
        "outputId": "aa907d23-10c0-4b2a-c499-6c1d61b95b0d"
      },
      "execution_count": null,
      "outputs": [
        {
          "output_type": "stream",
          "name": "stdout",
          "text": [
            "Original array:\n",
            "[[0 1]\n",
            " [2 3]]\n",
            "Sum of all elements:\n",
            "6\n",
            "Sum of each column:\n",
            "[2 4]\n",
            "Sum of each row:\n",
            "[1 5]\n"
          ]
        }
      ]
    },
    {
      "cell_type": "markdown",
      "source": [
        "###### 12. Write a NumPy program to compute the inner product of two given vectors."
      ],
      "metadata": {
        "id": "4JSLT9ImAnKn"
      }
    },
    {
      "cell_type": "code",
      "source": [
        "## code here\n",
        "x = np.array([4,5])\n",
        "y = np.array([7,10])\n",
        "print(f'Original vectors:\\n{x}\\n{y}\\nInner product of said vectors:\\n{np.dot(x,y)}')"
      ],
      "metadata": {
        "id": "cBGxcHxe_KEt",
        "colab": {
          "base_uri": "https://localhost:8080/"
        },
        "outputId": "ddd625d7-0919-41ca-e65e-2b33bf17ffb8"
      },
      "execution_count": null,
      "outputs": [
        {
          "output_type": "stream",
          "name": "stdout",
          "text": [
            "Original vectors:\n",
            "[4 5]\n",
            "[ 7 10]\n",
            "Inner product of said vectors:\n",
            "78\n"
          ]
        }
      ]
    },
    {
      "cell_type": "code",
      "source": [
        "## sample output"
      ],
      "metadata": {
        "colab": {
          "base_uri": "https://localhost:8080/"
        },
        "id": "AvS0_rdDAp-B",
        "outputId": "aff4e886-3e49-49c6-a9f0-cc3cce2dbc90"
      },
      "execution_count": null,
      "outputs": [
        {
          "output_type": "stream",
          "name": "stdout",
          "text": [
            "Original vectors:\n",
            "[4 5]\n",
            "[ 7 10]\n",
            "Inner product of said vectors:\n",
            "78\n"
          ]
        }
      ]
    }
  ]
}