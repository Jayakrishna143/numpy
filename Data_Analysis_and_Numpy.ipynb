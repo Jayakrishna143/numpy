{
  "cells": [
    {
      "cell_type": "markdown",
      "metadata": {
        "id": "view-in-github",
        "colab_type": "text"
      },
      "source": [
        "<a href=\"https://colab.research.google.com/github/Jayakrishna143/numpy/blob/main/Data_Analysis_and_Numpy.ipynb\" target=\"_parent\"><img src=\"https://colab.research.google.com/assets/colab-badge.svg\" alt=\"Open In Colab\"/></a>"
      ]
    },
    {
      "cell_type": "markdown",
      "metadata": {
        "id": "TPD58ekRHsQu"
      },
      "source": [
        "# 1. What is Data Analysis?\n",
        "Data analysis is the process of examining, cleaning, transforming, and interpreting data to extract meaningful insights and patterns. It has statistical and computational techniques"
      ],
      "id": "TPD58ekRHsQu"
    },
    {
      "cell_type": "markdown",
      "source": [
        "# 2. Difference Between Function, Module, and Package in Python"
      ],
      "metadata": {
        "id": "Q_NXPstIIQxw"
      },
      "id": "Q_NXPstIIQxw"
    },
    {
      "cell_type": "markdown",
      "source": [
        "**Function:**\n",
        "A function is a block of reusable code that performs a specific task. Functions can accept inputs (parameters) and return outputs. Functions help to keep your code organized and reusable."
      ],
      "metadata": {
        "id": "0otb0n2UIGYK"
      },
      "id": "0otb0n2UIGYK"
    },
    {
      "cell_type": "code",
      "source": [
        "def greet(name):\n",
        "    return f\"Hello, {name}!\"\n",
        "print(greet(\"jaya\"))"
      ],
      "metadata": {
        "colab": {
          "base_uri": "https://localhost:8080/"
        },
        "id": "7fgqNxDfIAoX",
        "outputId": "3f863b71-f0bf-4eb4-9c6d-93aee74c7b5e"
      },
      "id": "7fgqNxDfIAoX",
      "execution_count": 3,
      "outputs": [
        {
          "output_type": "stream",
          "name": "stdout",
          "text": [
            "Hello, jaya!\n"
          ]
        }
      ]
    },
    {
      "cell_type": "markdown",
      "source": [
        "**Module:**\n",
        "A module is a single Python file containing related functions, variables, and classes. Modules allow you to organize your code by grouping related functionalities together."
      ],
      "metadata": {
        "id": "MBwmmjTMIUqS"
      },
      "id": "MBwmmjTMIUqS"
    },
    {
      "cell_type": "code",
      "source": [
        "# my_module.py\n",
        "def add(a, b):\n",
        "    return a + b\n",
        "\n",
        "def subtract(a, b):\n",
        "    return a - b"
      ],
      "metadata": {
        "id": "_TN89zZZIaCQ"
      },
      "id": "_TN89zZZIaCQ",
      "execution_count": null,
      "outputs": []
    },
    {
      "cell_type": "code",
      "source": [
        "import my_module # accesing my_module form same directory\n",
        "print(my_module.add(5, 3))"
      ],
      "metadata": {
        "id": "AieZWScEIf4i"
      },
      "id": "AieZWScEIf4i",
      "execution_count": null,
      "outputs": []
    },
    {
      "cell_type": "markdown",
      "source": [
        "**Package:**\n",
        "A package is a collection of modules organized into directories. A package includes an `__init__.py` file, which can be empty or used to initialize the package namespace.\n"
      ],
      "metadata": {
        "id": "8egxcRsSIzf9"
      },
      "id": "8egxcRsSIzf9"
    },
    {
      "cell_type": "code",
      "source": [
        "my_package/\n",
        "    __init__.py\n",
        "    module1.py\n",
        "    module2.py"
      ],
      "metadata": {
        "id": "X26RQekKIzKq"
      },
      "id": "X26RQekKIzKq",
      "execution_count": null,
      "outputs": []
    },
    {
      "cell_type": "code",
      "source": [
        "from my_package import module1\n",
        "print(module1.some_function())"
      ],
      "metadata": {
        "id": "oxTaOPEOI7To"
      },
      "id": "oxTaOPEOI7To",
      "execution_count": null,
      "outputs": []
    },
    {
      "cell_type": "markdown",
      "source": [
        "3.1 Create a numpy array using the values 4, 5, 6, 7, 8"
      ],
      "metadata": {
        "id": "w6YzA_5nJFeV"
      },
      "id": "w6YzA_5nJFeV"
    },
    {
      "cell_type": "code",
      "execution_count": 2,
      "metadata": {
        "colab": {
          "base_uri": "https://localhost:8080/"
        },
        "id": "nTz6No2eHsQ1",
        "outputId": "ed5c487e-6956-4364-e7e6-0065aabcd0f2"
      },
      "outputs": [
        {
          "output_type": "stream",
          "name": "stdout",
          "text": [
            "Array: [4 5 6 7 8]\n"
          ]
        }
      ],
      "source": [
        "\n",
        "import numpy as np\n",
        "\n",
        "array = np.array([4, 5, 6, 7, 8])\n",
        "print(\"Array:\", array)"
      ],
      "id": "nTz6No2eHsQ1"
    },
    {
      "cell_type": "markdown",
      "source": [
        "4. Create a numpy array taking input from the user and print the created array"
      ],
      "metadata": {
        "id": "UCQ1fc_4JMCY"
      },
      "id": "UCQ1fc_4JMCY"
    },
    {
      "cell_type": "code",
      "execution_count": 1,
      "metadata": {
        "colab": {
          "base_uri": "https://localhost:8080/"
        },
        "id": "mO6j-UT2HsQ7",
        "outputId": "f0519264-b243-4a44-8b5f-893e8bec63d7"
      },
      "outputs": [
        {
          "output_type": "stream",
          "name": "stdout",
          "text": [
            "Enter numbers separated by spaces: 1 2 3 4 5 6 7 8 9 10\n",
            "Array: [ 1  2  3  4  5  6  7  8  9 10]\n"
          ]
        }
      ],
      "source": [
        "\n",
        "import numpy as np\n",
        "\n",
        "user_input = input(\"Enter numbers separated by spaces: \")\n",
        "numbers = list(map(int, user_input.split()))\n",
        "\n",
        "user_array = np.array(numbers)\n",
        "print(\"Array:\", user_array)"
      ],
      "id": "mO6j-UT2HsQ7"
    }
  ],
  "metadata": {
    "kernelspec": {
      "display_name": "Python 3",
      "language": "python",
      "name": "python3"
    },
    "language_info": {
      "codemirror_mode": {
        "name": "ipython",
        "version": 3
      },
      "file_extension": ".py",
      "mimetype": "text/x-python",
      "name": "python",
      "nbconvert_exporter": "python",
      "pygments_lexer": "ipython3",
      "version": "3.9"
    },
    "colab": {
      "provenance": [],
      "include_colab_link": true
    }
  },
  "nbformat": 4,
  "nbformat_minor": 5
}