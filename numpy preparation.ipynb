{
 "cells": [
  {
   "cell_type": "code",
   "execution_count": 1,
   "metadata": {},
   "outputs": [],
   "source": [
    "import numpy as np"
   ]
  },
  {
   "cell_type": "code",
   "execution_count": 2,
   "metadata": {},
   "outputs": [
    {
     "data": {
      "text/plain": [
       "array([[[4, 4, 4, 4],\n",
       "        [4, 4, 4, 4],\n",
       "        [4, 4, 4, 4]],\n",
       "\n",
       "       [[4, 4, 4, 4],\n",
       "        [4, 4, 4, 4],\n",
       "        [4, 4, 4, 4]]])"
      ]
     },
     "execution_count": 2,
     "metadata": {},
     "output_type": "execute_result"
    }
   ],
   "source": [
    "a = np.full((2,3,4),4)\n",
    "a\n"
   ]
  },
  {
   "cell_type": "code",
   "execution_count": 3,
   "metadata": {},
   "outputs": [
    {
     "data": {
      "text/plain": [
       "array([[[1., 1., 1., 1.],\n",
       "        [1., 1., 1., 1.],\n",
       "        [1., 1., 1., 1.]],\n",
       "\n",
       "       [[1., 1., 1., 1.],\n",
       "        [1., 1., 1., 1.],\n",
       "        [1., 1., 1., 1.]]])"
      ]
     },
     "execution_count": 3,
     "metadata": {},
     "output_type": "execute_result"
    }
   ],
   "source": [
    "b= np.ones((2,3,4))\n",
    "b"
   ]
  },
  {
   "cell_type": "code",
   "execution_count": 4,
   "metadata": {},
   "outputs": [
    {
     "data": {
      "text/plain": [
       "array([[[0.00000000e+000, 6.95183816e-310, 1.99108455e-321,\n",
       "         1.28447099e-311, 1.28447140e-311],\n",
       "        [6.95183823e-310, 1.39052262e-309, 0.00000000e+000,\n",
       "         1.06099790e-313, 4.94065646e-324],\n",
       "        [0.00000000e+000, 0.00000000e+000, 6.95183823e-310,\n",
       "         6.95183823e-310, 1.28447149e-311],\n",
       "        [1.28447151e-311, 1.28447151e-311, 1.28446193e-311,\n",
       "         0.00000000e+000, 0.00000000e+000],\n",
       "        [0.00000000e+000, 0.00000000e+000, 0.00000000e+000,\n",
       "         1.02359509e-306, 3.82365689e-297]],\n",
       "\n",
       "       [[3.82440351e-297, 1.06788918e-287, 4.58792637e-278,\n",
       "         1.97109091e-268, 1.07598055e-282],\n",
       "        [3.63765773e-249, 5.13120199e-244, 3.82265086e-297,\n",
       "         1.02452389e-234, 1.34024093e-229],\n",
       "        [0.00000000e+000, 1.44347913e-315, 2.91756361e-257,\n",
       "         1.44932313e-311, 4.39012211e-225],\n",
       "        [5.60683073e-249, 3.56942936e-306, 1.57696606e-234,\n",
       "         8.10395444e-206, 6.22319660e-119],\n",
       "        [2.90819536e-309, 8.95676144e-312, 2.10966031e-321,\n",
       "         2.34290693e-301, 3.62861280e-312]],\n",
       "\n",
       "       [[2.27948172e-191, 1.03085434e-300, 1.38258698e-316,\n",
       "         8.22953910e-201, 1.92246382e-305],\n",
       "        [0.00000000e+000, 5.63683155e-196, 9.06092203e-312,\n",
       "         4.06070694e-114, 3.52263867e-312],\n",
       "        [8.44852254e-322, 7.09174655e-225, 1.25990589e-300,\n",
       "         0.00000000e+000, 1.56687365e-305],\n",
       "        [5.53682373e-317, 2.92992447e-309, 8.95676144e-312,\n",
       "         2.10966031e-321, 2.34472971e-301],\n",
       "        [3.62861280e-312, 4.20490160e-172, 1.03085434e-300,\n",
       "         1.38258698e-316, 1.51808202e-181]],\n",
       "\n",
       "       [[1.92246382e-305, 0.00000000e+000, 2.34564111e-301,\n",
       "         3.68456212e-191, 2.34609655e-301],\n",
       "        [2.34655248e-301, 1.25705544e-152, 9.06092203e-312,\n",
       "         6.19614706e-119, 3.52263868e-312],\n",
       "        [8.44852254e-322, 7.09174669e-225, 1.25990589e-300,\n",
       "         0.00000000e+000, 1.56687368e-305],\n",
       "        [5.53682373e-317, 2.96795063e-309, 8.95750746e-312,\n",
       "         2.10966031e-321, 2.34837529e-301],\n",
       "        [3.62861280e-312, 2.18330973e-138, 1.03249484e-300,\n",
       "         1.38258698e-316, 5.16776750e-143]],\n",
       "\n",
       "       [[1.92246382e-305, 0.00000000e+000, 1.25705544e-152,\n",
       "         9.06092203e-312, 6.19614706e-119],\n",
       "        [3.52263869e-312, 8.44852254e-322, 7.09174677e-225,\n",
       "         1.25990589e-300, 0.00000000e+000],\n",
       "        [1.56687370e-305, 5.53682373e-317, 2.98967987e-309,\n",
       "         8.95750746e-312, 2.10966031e-321],\n",
       "        [2.35019805e-301, 3.62861280e-312, 4.02749559e-119,\n",
       "         1.03249484e-300, 1.38258698e-316],\n",
       "        [9.53284845e-124, 1.92246382e-305, 0.00000000e+000,\n",
       "         1.76153761e-312, 0.00000000e+000]]])"
      ]
     },
     "execution_count": 4,
     "metadata": {},
     "output_type": "execute_result"
    }
   ],
   "source": [
    "a = np.empty((5,5,5))\n",
    "a"
   ]
  },
  {
   "cell_type": "code",
   "execution_count": 5,
   "metadata": {},
   "outputs": [
    {
     "data": {
      "text/plain": [
       "array([  0,   5,  10,  15,  20,  25,  30,  35,  40,  45,  50,  55,  60,\n",
       "        65,  70,  75,  80,  85,  90,  95, 100, 105, 110, 115, 120, 125,\n",
       "       130, 135, 140, 145, 150, 155, 160, 165, 170, 175, 180, 185, 190,\n",
       "       195, 200, 205, 210, 215, 220, 225, 230, 235, 240, 245, 250, 255,\n",
       "       260, 265, 270, 275, 280, 285, 290, 295, 300, 305, 310, 315, 320,\n",
       "       325, 330, 335, 340, 345, 350, 355, 360, 365, 370, 375, 380, 385,\n",
       "       390, 395, 400, 405, 410, 415, 420, 425, 430, 435, 440, 445, 450,\n",
       "       455, 460, 465, 470, 475, 480, 485, 490, 495, 500, 505, 510, 515,\n",
       "       520, 525, 530, 535, 540, 545, 550, 555, 560, 565, 570, 575, 580,\n",
       "       585, 590, 595, 600, 605, 610, 615, 620, 625, 630, 635, 640, 645,\n",
       "       650, 655, 660, 665, 670, 675, 680, 685, 690, 695, 700, 705, 710,\n",
       "       715, 720, 725, 730, 735, 740, 745, 750, 755, 760, 765, 770, 775,\n",
       "       780, 785, 790, 795, 800, 805, 810, 815, 820, 825, 830, 835, 840,\n",
       "       845, 850, 855, 860, 865, 870, 875, 880, 885, 890, 895, 900, 905,\n",
       "       910, 915, 920, 925, 930, 935, 940, 945, 950, 955, 960, 965, 970,\n",
       "       975, 980, 985, 990, 995])"
      ]
     },
     "execution_count": 5,
     "metadata": {},
     "output_type": "execute_result"
    }
   ],
   "source": [
    "#arange takes starting value and ending value and also the step size between each value to generate an array\n",
    "x_value =np.arange(0,1000,5)\n",
    "x_value"
   ]
  },
  {
   "cell_type": "code",
   "execution_count": 6,
   "metadata": {},
   "outputs": [
    {
     "data": {
      "text/plain": [
       "array([  0.        ,   9.09090909,  18.18181818,  27.27272727,\n",
       "        36.36363636,  45.45454545,  54.54545455,  63.63636364,\n",
       "        72.72727273,  81.81818182,  90.90909091, 100.        ])"
      ]
     },
     "execution_count": 6,
     "metadata": {},
     "output_type": "execute_result"
    }
   ],
   "source": [
    "#line space is similar to arange takes starting and ending values where as as last element is to how many elements are needed\n",
    "x_value = np.linspace(0,100,12)\n",
    "x_value"
   ]
  },
  {
   "cell_type": "code",
   "execution_count": 7,
   "metadata": {},
   "outputs": [
    {
     "name": "stdout",
     "output_type": "stream",
     "text": [
      "[1, 2, 3, 4, 5, 1, 2, 3, 4, 5, 1, 2, 3, 4, 5, 1, 2, 3, 4, 5, 1, 2, 3, 4, 5]\n",
      "[ 5 10 15 20 25]\n",
      "[ 6 14 24 36 50]\n"
     ]
    }
   ],
   "source": [
    "#arthamatic operations\n",
    "#when a python list is mul by any number it repeats it self where as in numpy the array is multiplied with the number\n",
    "l1 =[1,2,3,4,5]\n",
    "l2 =[6,7,8,9,10]\n",
    "a1= np.array(l1)\n",
    "a2= np.array(l2)\n",
    "\n",
    "print(l1*5) #all operations are not applicable \n",
    "print(a1*5)# all operatins are applicable\n",
    "print(a1*a2)"
   ]
  },
  {
   "cell_type": "code",
   "execution_count": 8,
   "metadata": {},
   "outputs": [
    {
     "data": {
      "text/plain": [
       "array([[1, 2, 3],\n",
       "       [4, 5, 6]])"
      ]
     },
     "execution_count": 8,
     "metadata": {},
     "output_type": "execute_result"
    }
   ],
   "source": [
    "#mathamatical functions\n",
    "# functions such as sqrt,sin,cos,log,log2,exp...\n",
    "a = np.array([[1,2,3],\n",
    "             [4,5,6]])\n",
    "np.sin(a)\n",
    "a"
   ]
  },
  {
   "cell_type": "code",
   "execution_count": 9,
   "metadata": {},
   "outputs": [
    {
     "data": {
      "text/plain": [
       "array([1, 2, 3, 4, 9, 8, 7, 5, 6])"
      ]
     },
     "execution_count": 9,
     "metadata": {},
     "output_type": "execute_result"
    }
   ],
   "source": [
    "a = np.array([1,2,3])\n",
    "a = np.append(a,[4,5,6])\n",
    "a\n",
    "b= np.insert(a,4,[9,8,7])\n",
    "b\n"
   ]
  },
  {
   "cell_type": "code",
   "execution_count": 10,
   "metadata": {},
   "outputs": [
    {
     "data": {
      "text/plain": [
       "array([[4, 5, 6]])"
      ]
     },
     "execution_count": 10,
     "metadata": {},
     "output_type": "execute_result"
    }
   ],
   "source": [
    "#delete\n",
    "a = np.array([[1,2,3],\n",
    "             [4,5,6]])\n",
    "\n",
    "a=np.delete(a,0,0)\n",
    "a\n",
    "# frst value stands for rows 0 is the first row and 1 is the second row\n",
    "#second value stands for columns 0 stands for first and so on \n"
   ]
  },
  {
   "cell_type": "code",
   "execution_count": 11,
   "metadata": {},
   "outputs": [
    {
     "data": {
      "text/plain": [
       "array([[ 1,  5,  9, 13, 17],\n",
       "       [ 2,  6, 10, 14, 18],\n",
       "       [ 3,  7, 11, 15, 19],\n",
       "       [ 4,  8, 12, 16, 20]])"
      ]
     },
     "execution_count": 11,
     "metadata": {},
     "output_type": "execute_result"
    }
   ],
   "source": [
    "#stuctural methods\n",
    "a= np.array([[1,2,3,4,5],\n",
    "              [6,7,8,9,10],\n",
    "              [11,12,13,14,15],\n",
    "              [16,17,18,19,20]])\n",
    "a= a.reshape((5,4))\n",
    "a\n",
    "#flatten,ravel\n",
    "#transposing\n",
    "b= a.transpose()\n",
    "#c= a.T   transpose can simple done by just providing T \n",
    "b\n",
    "#a.swapaxes function is used similarly but when a higher dimention array is present and only required axis are to be transposed swap axis is used "
   ]
  },
  {
   "cell_type": "code",
   "execution_count": 12,
   "metadata": {},
   "outputs": [
    {
     "data": {
      "text/plain": [
       "array([[[ 1,  2,  3,  4,  5],\n",
       "        [ 6,  7,  8,  9, 10]],\n",
       "\n",
       "       [[11, 12, 13, 14, 15],\n",
       "        [16, 17, 18, 19, 20]]])"
      ]
     },
     "execution_count": 12,
     "metadata": {},
     "output_type": "execute_result"
    }
   ],
   "source": [
    "#concatinating, merging \n",
    "a= np.array([[1,2,3,4,5],\n",
    "              [6,7,8,9,10]])\n",
    "b = np.array([[11,12,13,14,15],\n",
    "              [16,17,18,19,20]])\n",
    "\n",
    "\n",
    "a1 = np.concatenate((a,b),axis=1)  # when axis is 0 the rows are added when its 1 values are added to  columns\n",
    "a1    \n",
    "\n",
    "#stack adds two arrays into two dimention with out making it into 1 \n",
    "b1 = np.stack((a,b))\n",
    "b1"
   ]
  },
  {
   "cell_type": "code",
   "execution_count": 13,
   "metadata": {},
   "outputs": [
    {
     "data": {
      "text/plain": [
       "[array([[ 1,  6],\n",
       "        [ 2,  7],\n",
       "        [ 3,  8],\n",
       "        [ 4,  9],\n",
       "        [ 5, 10]]),\n",
       " array([[11, 16],\n",
       "        [12, 17],\n",
       "        [13, 18],\n",
       "        [14, 19],\n",
       "        [15, 20]])]"
      ]
     },
     "execution_count": 13,
     "metadata": {},
     "output_type": "execute_result"
    }
   ],
   "source": [
    "a= np.array([[1,2,3,4,5],\n",
    "              [6,7,8,9,10],\n",
    "              [11,12,13,14,15],\n",
    "              [16,17,18,19,20]])\n",
    "#split\n",
    "b =a.T\n",
    "b = np.split(b,2,axis=1)\n",
    "b"
   ]
  },
  {
   "cell_type": "code",
   "execution_count": 15,
   "metadata": {},
   "outputs": [
    {
     "data": {
      "text/plain": [
       "[array([[ 1,  2,  3,  4,  5],\n",
       "        [ 6,  7,  8,  9, 10]]),\n",
       " array([[11, 12, 13, 14, 15],\n",
       "        [16, 17, 18, 19, 20]])]"
      ]
     },
     "execution_count": 15,
     "metadata": {},
     "output_type": "execute_result"
    }
   ],
   "source": [
    "a= np.array([[1,2,3,4,5],\n",
    "              [6,7,8,9,10],\n",
    "              [11,12,13,14,15],\n",
    "              [16,17,18,19,20]])\n",
    "\n",
    "b = np.split(a,2)\n",
    "b\n"
   ]
  },
  {
   "cell_type": "code",
   "execution_count": 19,
   "metadata": {},
   "outputs": [
    {
     "name": "stdout",
     "output_type": "stream",
     "text": [
      "1\n",
      "20\n",
      "10.5\n",
      "5.766281297335398\n",
      "210\n",
      "10.5\n"
     ]
    }
   ],
   "source": [
    "print(np.min(a))\n",
    "print(np.max(a))\n",
    "print(np.mean(a))\n",
    "print(np.std(a))\n",
    "print(np.sum(a))\n",
    "print(np.median(a))"
   ]
  },
  {
   "cell_type": "code",
   "execution_count": 28,
   "metadata": {},
   "outputs": [
    {
     "data": {
      "text/plain": [
       "62"
      ]
     },
     "execution_count": 28,
     "metadata": {},
     "output_type": "execute_result"
    }
   ],
   "source": [
    "number=np.random.randint(100)\n",
    "number"
   ]
  },
  {
   "cell_type": "code",
   "execution_count": 30,
   "metadata": {},
   "outputs": [
    {
     "data": {
      "text/plain": [
       "array([[[31, 17, 55, 88],\n",
       "        [13, 64, 62, 84],\n",
       "        [43, 65, 53, 64]],\n",
       "\n",
       "       [[19, 51, 80, 69],\n",
       "        [44, 31, 57, 12],\n",
       "        [77,  1,  1, 78]],\n",
       "\n",
       "       [[26, 61, 87, 57],\n",
       "        [78, 81, 87, 93],\n",
       "        [95, 75, 80, 66]]])"
      ]
     },
     "execution_count": 30,
     "metadata": {},
     "output_type": "execute_result"
    }
   ],
   "source": [
    "numbers = np.random.randint(0,100,size=(3,3,4),)\n",
    "numbers"
   ]
  },
  {
   "cell_type": "code",
   "execution_count": 79,
   "metadata": {},
   "outputs": [
    {
     "name": "stdout",
     "output_type": "stream",
     "text": [
      "51.93\n"
     ]
    }
   ],
   "source": [
    "numbers = np.random.randint(0,101,(10,10))\n",
    "print(np.mean(numbers))"
   ]
  },
  {
   "cell_type": "code",
   "execution_count": 98,
   "metadata": {},
   "outputs": [
    {
     "name": "stdout",
     "output_type": "stream",
     "text": [
      "0.43\n"
     ]
    }
   ],
   "source": [
    "number = np.random.binomial(1,0.5,(1,100))\n",
    "print (np.mean(number))"
   ]
  }
 ],
 "metadata": {
  "kernelspec": {
   "display_name": "base",
   "language": "python",
   "name": "python3"
  },
  "language_info": {
   "codemirror_mode": {
    "name": "ipython",
    "version": 3
   },
   "file_extension": ".py",
   "mimetype": "text/x-python",
   "name": "python",
   "nbconvert_exporter": "python",
   "pygments_lexer": "ipython3",
   "version": "3.11.4"
  }
 },
 "nbformat": 4,
 "nbformat_minor": 2
}
