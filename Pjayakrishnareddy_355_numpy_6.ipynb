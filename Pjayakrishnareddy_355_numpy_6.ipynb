{
  "nbformat": 4,
  "nbformat_minor": 0,
  "metadata": {
    "colab": {
      "provenance": [],
      "authorship_tag": "ABX9TyN4nhIFVow5XiiRwzXmPEad",
      "include_colab_link": true
    },
    "kernelspec": {
      "name": "python3",
      "display_name": "Python 3"
    },
    "language_info": {
      "name": "python"
    }
  },
  "cells": [
    {
      "cell_type": "markdown",
      "metadata": {
        "id": "view-in-github",
        "colab_type": "text"
      },
      "source": [
        "<a href=\"https://colab.research.google.com/github/Jayakrishna143/numpy/blob/main/Pjayakrishnareddy_355_numpy_6.ipynb\" target=\"_parent\"><img src=\"https://colab.research.google.com/assets/colab-badge.svg\" alt=\"Open In Colab\"/></a>"
      ]
    },
    {
      "cell_type": "code",
      "execution_count": 10,
      "metadata": {
        "colab": {
          "base_uri": "https://localhost:8080/"
        },
        "id": "zZoImAhWFX38",
        "outputId": "753d37e3-7986-4e80-fb8c-eeee276d79c2"
      },
      "outputs": [
        {
          "output_type": "stream",
          "name": "stdout",
          "text": [
            "Array filled with ones: \n",
            "[[1. 1. 1.]\n",
            " [1. 1. 1.]\n",
            " [1. 1. 1.]]\n",
            "\n",
            "Array with ones on the diagonal: \n",
            "[[1 0 0]\n",
            " [0 1 0]\n",
            " [0 0 1]]\n",
            "\n",
            "Array filled with zeros: \n",
            "[[0. 0. 0.]\n",
            " [0. 0. 0.]\n",
            " [0. 0. 0.]]\n"
          ]
        }
      ],
      "source": [
        "import numpy as np\n",
        "print(f'Array filled with ones: \\n{np.ones((3,3))}\\n')\n",
        "print(f'Array with ones on the diagonal: \\n{np.diag(np.array([1,1,1]))}\\n')\n",
        "print(f'Array filled with zeros: \\n{np.zeros((3,3))}')"
      ]
    },
    {
      "cell_type": "code",
      "source": [
        "arr=np.random.randint(1,10,(3,3))\n",
        "print(f'mean of the array is: \\n{np.mean(arr)}\\n')\n",
        "print(f'median of the array is: \\n{np.median(arr)}\\n')\n",
        "print(f'standard deviation of the array is: \\n{np.std(arr)}\\n')"
      ],
      "metadata": {
        "colab": {
          "base_uri": "https://localhost:8080/"
        },
        "id": "iNomG10AIva8",
        "outputId": "de53caf2-8b1c-4804-b718-5d9ff77ad5d4"
      },
      "execution_count": 11,
      "outputs": [
        {
          "output_type": "stream",
          "name": "stdout",
          "text": [
            "mean of the array is: \n",
            "5.444444444444445\n",
            "\n",
            "median of the array is: \n",
            "5.0\n",
            "\n",
            "standard deviation of the array is: \n",
            "2.753224820747526\n",
            "\n"
          ]
        }
      ]
    },
    {
      "cell_type": "code",
      "source": [
        "arr = np.empty((3, 4))\n",
        "arr.shape\n",
        "'''Empty array is not truely empty it has a shape of (3,4)'''"
      ],
      "metadata": {
        "colab": {
          "base_uri": "https://localhost:8080/"
        },
        "id": "U2_H3l7JJAlR",
        "outputId": "d6b116a6-eaa6-481f-c06b-def5df843c37"
      },
      "execution_count": 14,
      "outputs": [
        {
          "output_type": "execute_result",
          "data": {
            "text/plain": [
              "(3, 4)"
            ]
          },
          "metadata": {},
          "execution_count": 14
        }
      ]
    },
    {
      "cell_type": "code",
      "source": [],
      "metadata": {
        "id": "WiMH6FdDJUZV"
      },
      "execution_count": null,
      "outputs": []
    }
  ]
}