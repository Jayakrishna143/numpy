{
  "nbformat": 4,
  "nbformat_minor": 0,
  "metadata": {
    "colab": {
      "provenance": [],
      "authorship_tag": "ABX9TyOQJyRXhEllNcbIcIfGPby/",
      "include_colab_link": true
    },
    "kernelspec": {
      "name": "python3",
      "display_name": "Python 3"
    },
    "language_info": {
      "name": "python"
    }
  },
  "cells": [
    {
      "cell_type": "markdown",
      "metadata": {
        "id": "view-in-github",
        "colab_type": "text"
      },
      "source": [
        "<a href=\"https://colab.research.google.com/github/Jayakrishna143/numpy/blob/main/P_Jayakrishnareddy355_numpy3.ipynb\" target=\"_parent\"><img src=\"https://colab.research.google.com/assets/colab-badge.svg\" alt=\"Open In Colab\"/></a>"
      ]
    },
    {
      "cell_type": "code",
      "source": [
        "import numpy as np"
      ],
      "metadata": {
        "id": "EPBfqGqREgNJ"
      },
      "execution_count": 1,
      "outputs": []
    },
    {
      "cell_type": "markdown",
      "source": [
        "- Rule 1: If the two arrays different in their number of dims, the shape of the\n",
        "one with fewer dimensions is added with ones on its left side.\n",
        "- Rule 2: If the shape of the two arrays does not match in any dimension, the array\n",
        "with shape equal to 1 in that dimension is stretched to match the other shape.\n",
        "- Rule 3: If in any dimension the sizes disagree and neither is equal to 1, an error is\n",
        "raised.\n"
      ],
      "metadata": {
        "id": "RU4nxeSxDuD-"
      }
    },
    {
      "cell_type": "code",
      "source": [
        "array1 = np.random.randint(1,10,(3,4)) # array with size (3,4)\n",
        "array2 = np.random.randint(1,10,(4,)) # array wiht size (4,)\n",
        "sum_array = array1 + array2\n",
        "mul_array = array1 * array2\n",
        "print(f'Element-wise addition = \\n{sum_array}')\n",
        "print(f'Element-wise multiplication:\\n{mul_array}')\n",
        "# rule 1 the array with less dim is added with 1 on its left side\n",
        "# rule 2 The array with shape 1 is streched to match size of other array"
      ],
      "metadata": {
        "colab": {
          "base_uri": "https://localhost:8080/"
        },
        "id": "yW-MX4BTEZ6b",
        "outputId": "7bcb9980-da7a-4aab-9f70-2126713bde7e"
      },
      "execution_count": 8,
      "outputs": [
        {
          "output_type": "stream",
          "name": "stdout",
          "text": [
            "element-wise addition = \n",
            "[[17 11  8  5]\n",
            " [17 12 10  2]\n",
            " [16  8 13  7]]\n",
            "element-wise multiplication:\n",
            "[[72 28  7  4]\n",
            " [72 35 21  1]\n",
            " [64  7 42  6]]\n"
          ]
        }
      ]
    },
    {
      "cell_type": "code",
      "source": [
        "array1 = np.random.randint(20,30,(3,4)) # array with size (3,4)\n",
        "array2 = np.random.randint(1,10,(3,5)) # array with size (3,5)\n",
        "sum_array = array1 + array2\n",
        "mul_array = array1 * array2\n",
        "print(f'Element-wise addition = \\n{sum_array}')\n",
        "print(f'Element-wise multiplication:\\n{mul_array}')\n",
        "# here the addition and multiplication doesnt happen bcos\n",
        "#rule 1: The dimensions of both the array are same ie both are 2D arrays and no 1s are added\n",
        "#rule 2: Because both are of same dims and no 1 are added there is no way to increase the size to match both array\n",
        "# as both sizes are not matched multiplication or additon are not performed and outputs error"
      ],
      "metadata": {
        "colab": {
          "base_uri": "https://localhost:8080/",
          "height": 222
        },
        "id": "Wm6zRfqeGfAm",
        "outputId": "20ef1547-5152-4c9a-9ef9-c2c38d525bdd"
      },
      "execution_count": 10,
      "outputs": [
        {
          "output_type": "error",
          "ename": "ValueError",
          "evalue": "operands could not be broadcast together with shapes (3,4) (3,5) ",
          "traceback": [
            "\u001b[0;31m---------------------------------------------------------------------------\u001b[0m",
            "\u001b[0;31mValueError\u001b[0m                                Traceback (most recent call last)",
            "\u001b[0;32m<ipython-input-10-da60e03ffcf5>\u001b[0m in \u001b[0;36m<cell line: 0>\u001b[0;34m()\u001b[0m\n\u001b[1;32m      1\u001b[0m \u001b[0marray1\u001b[0m \u001b[0;34m=\u001b[0m \u001b[0mnp\u001b[0m\u001b[0;34m.\u001b[0m\u001b[0mrandom\u001b[0m\u001b[0;34m.\u001b[0m\u001b[0mrandint\u001b[0m\u001b[0;34m(\u001b[0m\u001b[0;36m20\u001b[0m\u001b[0;34m,\u001b[0m\u001b[0;36m30\u001b[0m\u001b[0;34m,\u001b[0m\u001b[0;34m(\u001b[0m\u001b[0;36m3\u001b[0m\u001b[0;34m,\u001b[0m\u001b[0;36m4\u001b[0m\u001b[0;34m)\u001b[0m\u001b[0;34m)\u001b[0m \u001b[0;31m# array with size (3,4)\u001b[0m\u001b[0;34m\u001b[0m\u001b[0;34m\u001b[0m\u001b[0m\n\u001b[1;32m      2\u001b[0m \u001b[0marray2\u001b[0m \u001b[0;34m=\u001b[0m \u001b[0mnp\u001b[0m\u001b[0;34m.\u001b[0m\u001b[0mrandom\u001b[0m\u001b[0;34m.\u001b[0m\u001b[0mrandint\u001b[0m\u001b[0;34m(\u001b[0m\u001b[0;36m1\u001b[0m\u001b[0;34m,\u001b[0m\u001b[0;36m10\u001b[0m\u001b[0;34m,\u001b[0m\u001b[0;34m(\u001b[0m\u001b[0;36m3\u001b[0m\u001b[0;34m,\u001b[0m\u001b[0;36m5\u001b[0m\u001b[0;34m)\u001b[0m\u001b[0;34m)\u001b[0m \u001b[0;31m# array with size (3,5)\u001b[0m\u001b[0;34m\u001b[0m\u001b[0;34m\u001b[0m\u001b[0m\n\u001b[0;32m----> 3\u001b[0;31m \u001b[0msum_array\u001b[0m \u001b[0;34m=\u001b[0m \u001b[0marray1\u001b[0m \u001b[0;34m+\u001b[0m \u001b[0marray2\u001b[0m\u001b[0;34m\u001b[0m\u001b[0;34m\u001b[0m\u001b[0m\n\u001b[0m\u001b[1;32m      4\u001b[0m \u001b[0mmul_array\u001b[0m \u001b[0;34m=\u001b[0m \u001b[0marray1\u001b[0m \u001b[0;34m*\u001b[0m \u001b[0marray2\u001b[0m\u001b[0;34m\u001b[0m\u001b[0;34m\u001b[0m\u001b[0m\n\u001b[1;32m      5\u001b[0m \u001b[0mprint\u001b[0m\u001b[0;34m(\u001b[0m\u001b[0;34mf'Element-wise addition = \\n{sum_array}'\u001b[0m\u001b[0;34m)\u001b[0m\u001b[0;34m\u001b[0m\u001b[0;34m\u001b[0m\u001b[0m\n",
            "\u001b[0;31mValueError\u001b[0m: operands could not be broadcast together with shapes (3,4) (3,5) "
          ]
        }
      ]
    },
    {
      "cell_type": "markdown",
      "source": [
        "####`rand : `\n",
        "- This is a method to give random numbers,but the range of values given are between 0 and 1 only\n",
        "- Gives float values\n",
        "- only takes size or array as argument\n",
        "####` randn : `\n",
        "- This is method to give random float values.\n",
        "- the default mean is 0 and diviation is 1 so may get negative float values\n",
        "- It only takes size as input\n",
        "####`rnadint : `\n",
        "- This method as name specifies give interger values\n",
        "- it takes the range of numbers between which the random values are needed and also size as tuple\n",
        "####`uniform : `\n",
        "- this method generates random float values\n",
        "- this is similar to rand but can take range of values needed and also size of array needed"
      ],
      "metadata": {
        "id": "_GSdO0-jJoHC"
      }
    },
    {
      "cell_type": "code",
      "source": [
        "array1 = np.random.rand(3,5)\n",
        "array2 = np.random.randn(3,5)\n",
        "array3 = np.random.randint(1,10,(3,5))\n",
        "array4 = np.random.uniform(1,10,(3,5))\n",
        "array1,array2,array3,array4"
      ],
      "metadata": {
        "colab": {
          "base_uri": "https://localhost:8080/"
        },
        "id": "nEtJWUzQINA4",
        "outputId": "82570925-4642-43ad-e233-1b23bbbfa6b2"
      },
      "execution_count": 11,
      "outputs": [
        {
          "output_type": "execute_result",
          "data": {
            "text/plain": [
              "(array([[0.81224203, 0.71740186, 0.29131805, 0.4441746 , 0.59992102],\n",
              "        [0.72162688, 0.51435931, 0.21346875, 0.60395696, 0.42396414],\n",
              "        [0.26527536, 0.1171481 , 0.6005027 , 0.45466397, 0.75658562]]),\n",
              " array([[ 1.7558015 ,  0.1152907 ,  0.70331146,  0.75014245,  0.38663677],\n",
              "        [-0.56480118,  0.88976254,  1.24525701,  0.90367587,  1.28603696],\n",
              "        [-0.31338713,  0.94606897, -0.67282966,  0.78757625,  1.26846089]]),\n",
              " array([[1, 3, 7, 9, 4],\n",
              "        [2, 8, 6, 3, 6],\n",
              "        [1, 5, 7, 1, 8]]),\n",
              " array([[7.83408265, 7.82107431, 7.28121069, 1.61698719, 6.5992167 ],\n",
              "        [3.82532358, 2.93394965, 3.57322541, 2.67150791, 7.03732066],\n",
              "        [5.39890205, 7.30672039, 4.31175517, 6.3457723 , 2.55505322]]))"
            ]
          },
          "metadata": {},
          "execution_count": 11
        }
      ]
    }
  ]
}